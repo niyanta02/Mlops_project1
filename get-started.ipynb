{
 "cells": [
  {
   "cell_type": "markdown",
   "id": "a6ef75b1",
   "metadata": {},
   "source": [
    "MLFlow Tracking Server"
   ]
  },
  {
   "cell_type": "code",
   "execution_count": 1,
   "id": "b0a07a0d",
   "metadata": {},
   "outputs": [],
   "source": [
    "import mlflow"
   ]
  },
  {
   "cell_type": "code",
   "execution_count": null,
   "id": "dbb494a7",
   "metadata": {},
   "outputs": [],
   "source": [
    "mlflow.set_experiment(\"http://0.0.0.1:5000\")"
   ]
  },
  {
   "cell_type": "code",
   "execution_count": 2,
   "id": "2ce7bfde",
   "metadata": {},
   "outputs": [
    {
     "name": "stderr",
     "output_type": "stream",
     "text": [
      "2025/05/14 12:14:37 INFO mlflow.tracking.fluent: Experiment with name 'check localhost' does not exist. Creating a new experiment.\n"
     ]
    }
   ],
   "source": [
    "mlflow.set_experiment(\"check localhost\")\n",
    "\n",
    "with mlflow.start_run():\n",
    "    mlflow.log_metric(\"test1\", 1)\n",
    "    mlflow.log_metric(\"niyanta1\", 2)"
   ]
  },
  {
   "cell_type": "code",
   "execution_count": 3,
   "id": "e5c4de82",
   "metadata": {},
   "outputs": [],
   "source": [
    "with mlflow.start_run():\n",
    "    mlflow.log_metric(\"test2\", 1)\n",
    "    mlflow.log_metric(\"niyanta2\", 2)"
   ]
  },
  {
   "cell_type": "code",
   "execution_count": 4,
   "id": "863d3ea7",
   "metadata": {},
   "outputs": [],
   "source": [
    "with mlflow.start_run():\n",
    "    mlflow.log_metric(\"test3\", 1)\n",
    "    mlflow.log_metric(\"niyanta3\", 2)"
   ]
  },
  {
   "cell_type": "code",
   "execution_count": null,
   "id": "81a8cc1f",
   "metadata": {},
   "outputs": [],
   "source": []
  },
  {
   "cell_type": "code",
   "execution_count": null,
   "id": "e213186e",
   "metadata": {},
   "outputs": [],
   "source": []
  },
  {
   "cell_type": "code",
   "execution_count": null,
   "id": "1c525295",
   "metadata": {},
   "outputs": [],
   "source": []
  }
 ],
 "metadata": {
  "kernelspec": {
   "display_name": "Python 3",
   "language": "python",
   "name": "python3"
  },
  "language_info": {
   "codemirror_mode": {
    "name": "ipython",
    "version": 3
   },
   "file_extension": ".py",
   "mimetype": "text/x-python",
   "name": "python",
   "nbconvert_exporter": "python",
   "pygments_lexer": "ipython3",
   "version": "3.10.0"
  }
 },
 "nbformat": 4,
 "nbformat_minor": 5
}
